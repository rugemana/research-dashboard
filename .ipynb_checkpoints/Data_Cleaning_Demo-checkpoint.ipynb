{
 "cells": [
  {
   "cell_type": "code",
   "execution_count": 1,
   "id": "c652b2f7",
   "metadata": {
    "vscode": {
     "languageId": "plaintext"
    }
   },
   "outputs": [
    {
     "data": {
      "application/vnd.jupyter.widget-view+json": {
       "model_id": "17790eb486784ab58f06ddaa5654f0e7",
       "version_major": 2,
       "version_minor": 0
      },
      "text/plain": [
       "Dropdown(description='Outlier Method:', options=('clip', 'remove', 'median'), value='clip')"
      ]
     },
     "metadata": {},
     "output_type": "display_data"
    },
    {
     "data": {
      "application/vnd.jupyter.widget-view+json": {
       "model_id": "e6fa01bba9fa496cb33845a0ee392b28",
       "version_major": 2,
       "version_minor": 0
      },
      "text/plain": [
       "Button(description='Clean Data', style=ButtonStyle())"
      ]
     },
     "metadata": {},
     "output_type": "display_data"
    },
    {
     "data": {
      "application/vnd.jupyter.widget-view+json": {
       "model_id": "5df31761e20c420789b83f68826861d1",
       "version_major": 2,
       "version_minor": 0
      },
      "text/plain": [
       "Output()"
      ]
     },
     "metadata": {},
     "output_type": "display_data"
    },
    {
     "name": "stdout",
     "output_type": "stream",
     "text": [
      "Original Data:\n"
     ]
    },
    {
     "data": {
      "text/html": [
       "<div>\n",
       "<style scoped>\n",
       "    .dataframe tbody tr th:only-of-type {\n",
       "        vertical-align: middle;\n",
       "    }\n",
       "\n",
       "    .dataframe tbody tr th {\n",
       "        vertical-align: top;\n",
       "    }\n",
       "\n",
       "    .dataframe thead th {\n",
       "        text-align: right;\n",
       "    }\n",
       "</style>\n",
       "<table border=\"1\" class=\"dataframe\">\n",
       "  <thead>\n",
       "    <tr style=\"text-align: right;\">\n",
       "      <th></th>\n",
       "      <th>Participant</th>\n",
       "      <th>Age</th>\n",
       "      <th>Test_Score</th>\n",
       "      <th>Join_Date</th>\n",
       "      <th>Comments</th>\n",
       "    </tr>\n",
       "  </thead>\n",
       "  <tbody>\n",
       "    <tr>\n",
       "      <th>0</th>\n",
       "      <td>John Doe</td>\n",
       "      <td>32</td>\n",
       "      <td>85.5</td>\n",
       "      <td>2023-01-15</td>\n",
       "      <td>Good progress</td>\n",
       "    </tr>\n",
       "    <tr>\n",
       "      <th>1</th>\n",
       "      <td>Jane Smith</td>\n",
       "      <td>28</td>\n",
       "      <td>92.0</td>\n",
       "      <td>15/02/2023</td>\n",
       "      <td>Needs follow-up</td>\n",
       "    </tr>\n",
       "    <tr>\n",
       "      <th>2</th>\n",
       "      <td>Bob Johnson</td>\n",
       "      <td>45</td>\n",
       "      <td>78.5</td>\n",
       "      <td>March 3 2023</td>\n",
       "      <td>On track</td>\n",
       "    </tr>\n",
       "    <tr>\n",
       "      <th>3</th>\n",
       "      <td>Alice Brown</td>\n",
       "      <td>36</td>\n",
       "      <td>88.0</td>\n",
       "      <td>04-04-23</td>\n",
       "      <td></td>\n",
       "    </tr>\n",
       "    <tr>\n",
       "      <th>4</th>\n",
       "      <td>Eve White</td>\n",
       "      <td>150</td>\n",
       "      <td>200.0</td>\n",
       "      <td>2023/05/10</td>\n",
       "      <td>NaN</td>\n",
       "    </tr>\n",
       "  </tbody>\n",
       "</table>\n",
       "</div>"
      ],
      "text/plain": [
       "   Participant  Age  Test_Score     Join_Date             Comments\n",
       "0     John Doe   32        85.5    2023-01-15        Good progress\n",
       "1   Jane Smith   28        92.0    15/02/2023    Needs follow-up  \n",
       "2  Bob Johnson   45        78.5  March 3 2023             On track\n",
       "3  Alice Brown   36        88.0      04-04-23                     \n",
       "4    Eve White  150       200.0    2023/05/10                  NaN"
      ]
     },
     "metadata": {},
     "output_type": "display_data"
    },
    {
     "name": "stdout",
     "output_type": "stream",
     "text": [
      "\n",
      "1. After Text Cleaning:\n"
     ]
    },
    {
     "ename": "NameError",
     "evalue": "name 'clean_text' is not defined",
     "output_type": "error",
     "traceback": [
      "\u001b[31m---------------------------------------------------------------------------\u001b[39m",
      "\u001b[31mNameError\u001b[39m                                 Traceback (most recent call last)",
      "\u001b[36mCell\u001b[39m\u001b[36m \u001b[39m\u001b[32mIn[1]\u001b[39m\u001b[32m, line 83\u001b[39m\n\u001b[32m     81\u001b[39m text_cleaned = df.copy()\n\u001b[32m     82\u001b[39m \u001b[38;5;28;01mfor\u001b[39;00m col \u001b[38;5;129;01min\u001b[39;00m text_cleaned.select_dtypes(include=[\u001b[33m'\u001b[39m\u001b[33mobject\u001b[39m\u001b[33m'\u001b[39m]).columns:\n\u001b[32m---> \u001b[39m\u001b[32m83\u001b[39m     text_cleaned[col] = text_cleaned[col].apply(\u001b[43mclean_text\u001b[49m)\n\u001b[32m     84\u001b[39m display(text_cleaned)\n\u001b[32m     86\u001b[39m \u001b[38;5;66;03m# %%\u001b[39;00m\n",
      "\u001b[31mNameError\u001b[39m: name 'clean_text' is not defined"
     ]
    }
   ],
   "source": [
    "# %% [markdown]\n",
    "# # Research Data Cleaning Demo\n",
    "# \n",
    "# This notebook demonstrates the advanced data cleaning functions.\n",
    "\n",
    "# %%\n",
    "import pandas as pd\n",
    "import numpy as np\n",
    "from data_cleaner import clean_data, handle_outliers, standardize_dates\n",
    "import ipywidgets as widgets\n",
    "from IPython.display import display\n",
    "\n",
    "# %% [markdown]\n",
    "# ## 1. Load Sample Data\n",
    "\n",
    "# %%\n",
    "# Create sample data\n",
    "data = {\n",
    "    'Participant': ['John Doe', 'Jane Smith', 'Bob Johnson', 'Alice Brown', 'Eve White'],\n",
    "    'Age': [32, 28, 45, 36, 150],  # Contains outlier (150)\n",
    "    'Test_Score': [85.5, 92.0, 78.5, 88.0, 200],  # Contains outlier (200)\n",
    "    'Join_Date': ['2023-01-15', '15/02/2023', 'March 3 2023', '04-04-23', '2023/05/10'],\n",
    "    'Comments': ['Good progress', '  Needs follow-up  ', 'On track', '', np.nan]\n",
    "}\n",
    "\n",
    "df = pd.DataFrame(data)\n",
    "df\n",
    "\n",
    "# %% [markdown]\n",
    "# ## 2. Interactive Cleaning Demo\n",
    "\n",
    "# %%\n",
    "# Create interactive widgets\n",
    "outlier_method = widgets.Dropdown(\n",
    "    options=['clip', 'remove', 'median'],\n",
    "    value='clip',\n",
    "    description='Outlier Method:'\n",
    ")\n",
    "\n",
    "clean_button = widgets.Button(description=\"Clean Data\")\n",
    "output = widgets.Output()\n",
    "\n",
    "def on_clean_button_clicked(b):\n",
    "    with output:\n",
    "        output.clear_output()\n",
    "        print(\"Cleaning data...\")\n",
    "        \n",
    "        # Make a copy for demo\n",
    "        demo_df = df.copy()\n",
    "        \n",
    "        # Clean data\n",
    "        cleaned_df = clean_data(demo_df)\n",
    "        \n",
    "        # Handle outliers with selected method\n",
    "        for col in ['Age', 'Test_Score']:\n",
    "            cleaned_df = handle_outliers(cleaned_df, col, method=outlier_method.value)\n",
    "        \n",
    "        # Standardize dates\n",
    "        cleaned_df = standardize_dates(cleaned_df, 'Join_Date')\n",
    "        \n",
    "        print(\"\\nBefore Cleaning:\")\n",
    "        display(df)\n",
    "        \n",
    "        print(\"\\nAfter Cleaning:\")\n",
    "        display(cleaned_df)\n",
    "\n",
    "clean_button.on_click(on_clean_button_clicked)\n",
    "\n",
    "display(outlier_method, clean_button, output)\n",
    "\n",
    "# %% [markdown]\n",
    "# ## 3. Step-by-Step Cleaning Process\n",
    "\n",
    "# %%\n",
    "# Show each step individually\n",
    "print(\"Original Data:\")\n",
    "display(df)\n",
    "\n",
    "# %%\n",
    "print(\"\\n1. After Text Cleaning:\")\n",
    "text_cleaned = df.copy()\n",
    "for col in text_cleaned.select_dtypes(include=['object']).columns:\n",
    "    text_cleaned[col] = text_cleaned[col].apply(clean_text)\n",
    "display(text_cleaned)\n",
    "\n",
    "# %%\n",
    "print(\"\\n2. After Handling Outliers (clip method):\")\n",
    "outlier_handled = text_cleaned.copy()\n",
    "for col in ['Age', 'Test_Score']:\n",
    "    outlier_handled = handle_outliers(outlier_handled, col, method='clip')\n",
    "display(outlier_handled)\n",
    "\n",
    "# %%\n",
    "print(\"\\n3. After Date Standardization:\")\n",
    "date_standardized = outlier_handled.copy()\n",
    "date_standardized = standardize_dates(date_standardized, 'Join_Date')\n",
    "display(date_standardized)\n",
    "\n",
    "# %% [markdown]\n",
    "# ## 4. Export Options\n",
    "# \n",
    "# The cleaned data can be exported to various formats:\n",
    "\n",
    "# %%\n",
    "def export_data(format):\n",
    "    cleaned_df = clean_data(df)\n",
    "    filename = f'cleaned_data.{format}'\n",
    "    \n",
    "    if format == 'csv':\n",
    "        cleaned_df.to_csv(filename, index=False)\n",
    "    elif format == 'excel':\n",
    "        cleaned_df.to_excel(filename, index=False)\n",
    "    elif format == 'json':\n",
    "        cleaned_df.to_json(filename, orient='records')\n",
    "    \n",
    "    print(f\"Data exported to {filename}\")\n",
    "\n",
    "export_format = widgets.Dropdown(\n",
    "    options=['csv', 'excel', 'json'],\n",
    "    value='csv',\n",
    "    description='Export Format:'\n",
    ")\n",
    "\n",
    "export_button = widgets.Button(description=\"Export Data\")\n",
    "\n",
    "def on_export_clicked(b):\n",
    "    export_data(export_format.value)\n",
    "\n",
    "export_button.on_click(on_export_clicked)\n",
    "\n",
    "display(export_format, export_button)"
   ]
  },
  {
   "cell_type": "code",
   "execution_count": null,
   "id": "39c7ef4c",
   "metadata": {
    "vscode": {
     "languageId": "plaintext"
    }
   },
   "outputs": [],
   "source": []
  },
  {
   "cell_type": "markdown",
   "id": "96525224",
   "metadata": {},
   "source": []
  },
  {
   "cell_type": "code",
   "execution_count": null,
   "id": "3f08235a-564d-43b4-81a2-a17d5d9e9846",
   "metadata": {},
   "outputs": [],
   "source": []
  }
 ],
 "metadata": {
  "kernelspec": {
   "display_name": "Python 3 (ipykernel)",
   "language": "python",
   "name": "python3"
  },
  "language_info": {
   "codemirror_mode": {
    "name": "ipython",
    "version": 3
   },
   "file_extension": ".py",
   "mimetype": "text/x-python",
   "name": "python",
   "nbconvert_exporter": "python",
   "pygments_lexer": "ipython3",
   "version": "3.13.5"
  }
 },
 "nbformat": 4,
 "nbformat_minor": 5
}
